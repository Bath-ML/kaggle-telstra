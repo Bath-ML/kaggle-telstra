{
 "cells": [
  {
   "cell_type": "markdown",
   "metadata": {},
   "source": [
    "Installing XGBoost globally on MacOS:\n",
    "\n",
    "Install the binary:\n",
    "```\n",
    "git clone --recursive https://github.com/dmlc/xgboost\n",
    "cd xgboost; cp make/minimum.mk ./config.mk; make -j4\n",
    "```\n",
    "\n",
    "Install the python package:\n",
    "You'll need to have python3 on your machine. You can test if you have this by typing `python3` in your terminal. (Use ctrl+D to get out of this REPL if it doesn't throw an error).\n",
    "\n",
    "If you don't have python3:\n",
    "If you have homebrew install you can simply run `brew install python3` otherwise install manually [here](https://www.python.org/downloads/)\n",
    "\n",
    "Then you'll first need to install numpy globally:\n",
    "`pip3 install numpy`\n",
    "\n",
    "Then do the following (assuming you're inside `xgboost`)\n",
    "```\n",
    "cd python-package\n",
    "python3 setup.py install\n",
    "```\n",
    "\n",
    "This will take a lot of time, and will probably show a lot of warnings."
   ]
  },
  {
   "cell_type": "code",
   "execution_count": null,
   "metadata": {},
   "outputs": [],
   "source": [
    "# If you're lucky, this will just work\n",
    "import xgboost"
   ]
  },
  {
   "cell_type": "markdown",
   "metadata": {
    "collapsed": true
   },
   "source": [
    "If it doesn't, we'll have to point jupyter to our install of xgboost. The way we do this is add the path to our local installation of xgboost to the list of paths where jupyter looks for libraries."
   ]
  },
  {
   "cell_type": "code",
   "execution_count": null,
   "metadata": {},
   "outputs": [],
   "source": [
    "import sys\n",
    "sys.path #Should not see xgboost mentioned anywhere below."
   ]
  },
  {
   "cell_type": "code",
   "execution_count": null,
   "metadata": {
    "collapsed": true
   },
   "outputs": [],
   "source": [
    "path_to_xgboost = '/usr/local/lib/python3.6/site-packages/xgboost-0.6-py3.6.egg'\n",
    "sys.path.append(path_to_xgboost)"
   ]
  },
  {
   "cell_type": "code",
   "execution_count": null,
   "metadata": {},
   "outputs": [],
   "source": [
    "import xgboost #Should import without problems"
   ]
  },
  {
   "cell_type": "markdown",
   "metadata": {},
   "source": [
    "You will need to run the above three lines whenever you want to use xgboost in jupyter."
   ]
  }
 ],
 "metadata": {
  "kernelspec": {
   "display_name": "Python 3",
   "language": "python",
   "name": "python3"
  },
  "language_info": {
   "codemirror_mode": {
    "name": "ipython",
    "version": 3
   },
   "file_extension": ".py",
   "mimetype": "text/x-python",
   "name": "python",
   "nbconvert_exporter": "python",
   "pygments_lexer": "ipython3",
   "version": "3.6.1"
  }
 },
 "nbformat": 4,
 "nbformat_minor": 2
}
